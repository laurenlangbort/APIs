{
    "cells": [
     {
      "cell_type": "markdown",
      "metadata": {},
      "source": [
       "---\n",
       "title: APIs\n",
       "subtitle: \"Application Programming Interfaces\"\n",
       "author:\n",
       "  - name: Charles Pletcher\n",
       "    affiliations: Tufts University\n",
       "    orcid: 0000-0003-2734-5511\n",
       "    email: charles.pletcher@tufts.edu\n",
       "license:\n",
       "  code: MIT\n",
       "date: 2025-03-31\n",
       "---\n",
       "\n",
       "# Application Programming Interfaces\n",
       "\n",
       "You will hear the term \"API\" in many different contexts when it comes to computer programming. Already in this class, we have discussed Python's API for the file system.\n",
       "\n",
       "Often, however, when someone mentions an API, they are referring to a web-based API that is usually accessed over HTTP(S). You might have heard about the kerfuffle when Twitter shut down much of the access to its API, or when Reddit did the same thing a few years earlier. These APIs are servers that provide _interfaces_ (the \"I\" in \"API\") to a platform's data.\n",
       "\n",
       "As you probably noticed while reading @Walker2019, it is not exactly uncommon for references to APIs to become out of date.\n",
       "\n",
       "Luckily, we can still use the API provided by the [Digital Public Library of America](https://dp.la) for our work for this class.\n",
       "\n",
       "We'll be working with the Python [Requests](https://docs.python-requests.org/en/latest/) library, which provides its own easy-to-use API for making HTTP requests. In other words, it's APIs all the way down.\n",
       "\n",
       "## Getting an access token\n",
       "\n",
       "Generally, APIs will ask that you first obtain a key to use them. Even if APIs offer unlimited requests, it is important for them to require users to supply an API key so that they can track (often anonymized) usage statistics, errors, and so on.\n",
       "\n",
       "Sometimes, APIs require you to pay, either immediately or after making a certain number of requests. Keys can be used to track usage for payment calculations, too. For an example of this system, see OpenAI's [pricing page](https://openai.com/api/pricing/).\n",
       "\n",
       "### An API Key for DPLA\n",
       "\n",
       "For this tutorial, we'll work with the Digital Public Library of America's (DPLA) API. Take a few minutes to read through their [API Basics](https://pro.dp.la/developers/api-basics), then request an API key.\n",
       "\n",
       ":::{note} Request types\n",
       "\n",
       "You'll notice that you must submit a `POST` request to receive an API key. `POST` is one of several HTTP verbs. When you enter a URL into a web browser and hit \"Enter,\" you're typically issuing a `GET` request: `GET` requests do not have a request body; they simply ask for the information at the provided URL, perhaps with some query parameters (the `key=value` pairs after a `?` in the URL).\n",
       "\n",
       "`POST` requests, by contrast, _may_ contain a request body. You've probably submitted `POST` requests without knowing it whenever you sign up for a new service. That's essentially what we're doing with DPLA here, we're just doing it from the command line instead of through an interface that DPLA has built.\n",
       ":::\n",
       "\n",
       "The DPLA [documentation](https://pro.dp.la/developers/policies#get-a-key) instructs you to submit a request using `curl`, but we don't have access to `curl` from this notebook. Instead, let's make the request using the Python \"Requests\" library."
      ]
     },
     {
      "cell_type": "code",
      "execution_count": null,
      "metadata": {},
      "outputs": [],
      "source": [
       "%pip install requests"
      ]
     },
     {
      "cell_type": "code",
      "execution_count": null,
      "metadata": {},
      "outputs": [],
      "source": [
       "import requests\n",
       "\n",
       "my_email = \"YOUR EMAIL HERE\"\n",
       "\n",
       "requests.post(f\"https://api.dp.la/v2/api_key/{my_email}\")"
      ]
     },
     {
      "cell_type": "markdown",
      "metadata": {},
      "source": [
       "After running the above code cell, you should receive an email with your API code. It's good practice not to share these codes or include them in version control (i.e., git).\n",
       "\n",
       "Instead, create an account-specific [secret](https://docs.github.com/en/codespaces/managing-your-codespaces/managing-your-account-specific-secrets-for-github-codespaces) by following the instructions provided by GitHub. \n",
       "\n",
       "Let's call the secret `DPLA_API_KEY`. (It's conventional to use all caps for environment variables and secrets.)\n",
       "\n",
       "Make sure to give your fork of this repository access to the secret, and then restart this codespace. We'll be here when you get back."
      ]
     },
     {
      "cell_type": "markdown",
      "metadata": {},
      "source": [
       "## Making your first request\n",
       "\n",
       "As we saw above, making requests using the `requests` library is pretty straightforward — for a `GET` request, we can just pass a URL to `requests.get()`.\n",
       "\n",
       "In order for the request to be successful, though, we'll need to include the API key in the `api_key` querystring parameter. And to do that, we'll need to use the `os` library in Python."
      ]
     },
     {
      "cell_type": "code",
      "execution_count": null,
      "metadata": {},
      "outputs": [],
      "source": [
       "import os\n",
       "import requests\n",
       "\n",
       "DPLA_API_KEY = os.getenv(\"DPLA_API_KEY\")"
      ]
     },
     {
      "cell_type": "markdown",
      "metadata": {},
      "source": [
       "Let's use the example provided by the DPLA documentation, querying for the term \"weasels\"."
      ]
     },
     {
      "cell_type": "code",
      "execution_count": null,
      "metadata": {},
      "outputs": [],
      "source": [
       "\n",
       "requests.get(f\"https://api.dp.la/v2/items?q=weasels&api_key={DPLA_API_KEY}\")\n"
      ]
     },
     {
      "cell_type": "markdown",
      "metadata": {},
      "source": [
       "`<Response [200]>` means that our request was successful, but it doesn't give us a whole lot of information. This is because we have not read the response body. To do so, let's assign the response — which is the return value of `requests.get()` — to a variable and read it as JSON."
      ]
     },
     {
      "cell_type": "code",
      "execution_count": null,
      "metadata": {},
      "outputs": [],
      "source": [
       "response = requests.get(f\"https://api.dp.la/v2/items?q=weasels&api_key={DPLA_API_KEY}\")\n",
       "\n",
       "response.json()"
      ]
     },
     {
      "cell_type": "markdown",
      "metadata": {},
      "source": [
       "## Reading responses\n",
       "\n",
       "As you can see above, the response returns a JSON (JavaScript Object Notation) object with a few top-level keys. If you're thinking, \"Hm, this JSON looks an awful lot like a Python dictionary,\" you're absolutely right. While the semantics of Python dictionaries and JSON _are_ different, in this case, the `requests` library has already coerced the raw JSON to a Python dictionary for us. You can access its values like you would with any Python dict:"
      ]
     },
     {
      "cell_type": "code",
      "execution_count": null,
      "metadata": {},
      "outputs": [],
      "source": [
       "parsed_response = response.json()\n",
       "\n",
       "parsed_response['count']"
      ]
     },
     {
      "cell_type": "markdown",
      "metadata": {},
      "source": [
       ":::{important}\n",
       "Experiment a bit. How, for example, would you get all of the titles in a list?\n",
       ":::"
      ]
     },
     {
      "cell_type": "markdown",
      "metadata": {},
      "source": [
       "## Constructing queries\n",
       "\n",
       "Naturally, when you're working with an API, you'll want to be able to construct your own queries. Above, we hard-coded the value `weasels` under the querystring parameter `q`. But you can use Python's string interpolation to set any value you want. For example"
      ]
     },
     {
      "cell_type": "code",
      "execution_count": null,
      "metadata": {},
      "outputs": [],
      "source": [
       "my_query = \"foxes\"\n",
       "my_url = f\"https://api.dp.la/v2/items?q={my_query}&api_key={DPLA_API_KEY}\"\n",
       "\n",
       "response = requests.get(my_url)\n",
       "\n",
       "parsed_response = response.json()\n",
       "parsed_response"
      ]
     },
     {
      "cell_type": "markdown",
      "metadata": {},
      "source": [
       "You could even write a function that puts constructs the request URL and returns the parsed response so that you don't have to do these things manually over and over again."
      ]
     },
     {
      "cell_type": "code",
      "execution_count": null,
      "metadata": {},
      "outputs": [],
      "source": [
       "def make_dpla_request(query: str):\n",
       "    url = f\"https://api.dp.la/v2/items?q={query}&api_key={DPLA_API_KEY}\"\n",
       "    response = requests.get(url)\n",
       "\n",
       "    return response.json()"
      ]
     },
     {
      "cell_type": "markdown",
      "metadata": {},
      "source": [
       "There's a problem with this code, however. What happens if you try to make a request with a query that contains spaces, such as `\"red foxes\"`?\n",
       "\n",
       "Can you find the appropriate workaround using the documentation? https://pro.dp.la/developers/requests\n",
       "\n",
       "What other features does this API support?"
      ]
     },
     {
      "cell_type": "markdown",
      "metadata": {},
      "source": [
       "## RESTful APIs\n",
       "\n",
       "Many APIs, including the DPLA's, are built on RESTful principles. REST stands for **Re**presentational **S**tate **T**ransfer. In terms of web APIs, REST means that a given server will respond with a representation of the data that it has available, and that representation will contain additional information for manipulating the data or requesting further data.\n",
       "\n",
       "Although it is not, strictly speaking, a requirement of REST APIs, many REST implementations use a predictable URL scheme.\n",
       "\n",
       "For example, you might find a list of \"collections\" at the `/collections` endpoint. To request a specific collection, you would append its ID — e.g., for Collection 3, `/collections/3`.\n",
       "\n",
       "Each collection might contain items, so to get a list of items in Collection 3 you could send a request to `/collections/3/items`. And then to get a specific item in that collection — you guessed it, `/collections/3/items/12`.\n",
       "\n",
       "DPLA does _not_ implement this kind of schema, and instead relies on facets and other search parameters. But it is worth being aware of such schemes if you want to use other APIs in your work and research."
      ]
     },
     {
      "cell_type": "markdown",
      "metadata": {},
      "source": [
       "## Readings\n",
       "\n",
       "- @Walker2019\n",
       "- @Matthes2023 [chs. 15–17]\n",
       "\n",
       "## Homework\n",
       "\n",
       "Design and test an experiment using the data from a publicly available API, such as the [Digital Public Library of America](https://pro.dp.la/developers) or [Chronicling America](https://chroniclingamerica.loc.gov/about/api/) — you can also use another data source, just run it by me first.\n",
       "\n",
       "In your report, be sure to discuss your research question, hypothesis, methods, results, and conclusion — in other words, walk the reader through the full scientific process.\n",
       "\n",
       "These experiments need not be large — think of a small, answerable question that you could tackle in the space of 4 hours of work (i.e., the amount of outside work generally expected for each lab)."
      ]
     }
    ],
    "metadata": {
     "kernelspec": {
      "display_name": ".venv",
      "language": "python",
      "name": "python3"
     },
     "language_info": {
      "codemirror_mode": {
       "name": "ipython",
       "version": 3
      },
      "file_extension": ".py",
      "mimetype": "text/x-python",
      "name": "python",
      "nbconvert_exporter": "python",
      "pygments_lexer": "ipython3",
      "version": "3.12.7"
     }
    },
    "nbformat": 4,
    "nbformat_minor": 2
   }
